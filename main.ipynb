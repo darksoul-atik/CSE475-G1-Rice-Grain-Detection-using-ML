{
 "cells": [
  {
   "cell_type": "code",
   "execution_count": null,
   "id": "cf673ba1",
   "metadata": {},
   "outputs": [],
   "source": [
    "import os\n",
    "\n",
    "base_dir = '/kaggle/input/riceds-original/Original'\n",
    "subdirs = sorted(os.listdir(base_dir))\n",
    "print(f'Found {len(subdirs)} class-folders, e.g.:', subdirs[:5])\n",
    "\n",
    "# Count files in each\n",
    "for d in subdirs[:5]:\n",
    "    n = len(os.listdir(os.path.join(base_dir, d)))\n",
    "    print(f'  {d}: {n} files')\n"
   ]
  }
 ],
 "metadata": {
  "language_info": {
   "name": "python"
  }
 },
 "nbformat": 4,
 "nbformat_minor": 5
}
