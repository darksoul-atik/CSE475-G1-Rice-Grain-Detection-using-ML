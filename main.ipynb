{
 "cells": [
  {
   "cell_type": "markdown",
   "id": "a40ca44c",
   "metadata": {},
   "source": [
    "The Rice Dataset (Raw Images) has 38 classes and each class have 500 images. Which are loaded here"
   ]
  },
  {
   "cell_type": "code",
   "execution_count": null,
   "id": "cf673ba1",
   "metadata": {},
   "outputs": [],
   "source": [
    "import os\n",
    "\n",
    "base_dir = '/kaggle/input/riceds-original/Original'\n",
    "subdirs = sorted(os.listdir(base_dir))\n",
    "print(f'Found {len(subdirs)} class-folders, e.g.:', subdirs[:5])\n",
    "\n",
    "# Count files in each\n",
    "for d in subdirs[:5]:\n",
    "    n = len(os.listdir(os.path.join(base_dir, d)))\n",
    "    print(f'  {d}: {n} files')\n"
   ]
  },
  {
   "cell_type": "markdown",
   "id": "fa764fef",
   "metadata": {},
   "source": [
    "Here we are checking whether the images are loaded correctly or not"
   ]
  },
  {
   "cell_type": "code",
   "execution_count": null,
   "id": "971a7eea",
   "metadata": {},
   "outputs": [],
   "source": [
    "import os\n",
    "from PIL import Image\n",
    "import matplotlib.pyplot as plt\n",
    "\n",
    "\n",
    "base_dir = '/kaggle/input/riceds-original/Original'\n",
    "\n",
    "# Pick 3 class‐folders × 3 images each = 9 samples\n",
    "classes = sorted(os.listdir(base_dir))[:3]\n",
    "images, labels = [], []\n",
    "for cls in classes:\n",
    "    cls_path = os.path.join(base_dir, cls)\n",
    "    for fn in sorted(os.listdir(cls_path))[:3]:\n",
    "        img = Image.open(os.path.join(cls_path, fn))\n",
    "        images.append(img)\n",
    "        labels.append(cls)\n",
    "\n",
    "# Plot 3×3 grid\n",
    "fig, axes = plt.subplots(3, 3, figsize=(6, 6))\n",
    "for ax, img, lbl in zip(axes.flatten(), images, labels):\n",
    "    ax.imshow(img)\n",
    "    ax.set_title(lbl)\n",
    "    ax.axis('off')\n",
    "\n",
    "plt.tight_layout()\n",
    "plt.show()"
   ]
  },
  {
   "cell_type": "markdown",
   "id": "a6ef753b",
   "metadata": {},
   "source": [
    "A peak toward the left means most pixels are dark—your images may be under-exposed or generally low-contrast.\n",
    "\n",
    "A peak toward the right suggests brighter images—possibly over-exposed or with lots of light backgrounds.\n",
    "\n",
    "A wide spread (values across the whole 0–255 range) indicates good contrast.\n",
    "\n",
    "A narrow, tall spike (e.g. around 120-140) shows most of your pixels cluster around a medium gray—your images may look “flat.”"
   ]
  },
  {
   "cell_type": "code",
   "execution_count": null,
   "id": "5872b5b5",
   "metadata": {},
   "outputs": [],
   "source": [
    "import numpy as np\n",
    "\n",
    "# sample a subset of images\n",
    "pix_vals = []\n",
    "for cls in classes[:5]:          # for speed, just first 5 classes\n",
    "    fns = os.listdir(os.path.join(base_dir, cls))[:20]\n",
    "    for fn in fns:\n",
    "        arr = np.array(Image.open(os.path.join(base_dir, cls, fn)).convert('L'))\n",
    "        pix_vals.extend(arr.flatten())\n",
    "\n",
    "plt.figure(figsize=(6,4))\n",
    "plt.hist(pix_vals, bins=50)\n",
    "plt.title('Grayscale Pixel Distribution (sampled)')\n",
    "plt.xlabel('Pixel value')\n",
    "plt.ylabel('Frequency')\n",
    "plt.show()\n"
   ]
  }
 ],
 "metadata": {
  "language_info": {
   "name": "python"
  }
 },
 "nbformat": 4,
 "nbformat_minor": 5
}
